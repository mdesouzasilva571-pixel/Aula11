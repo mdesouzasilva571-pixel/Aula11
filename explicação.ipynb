{
  "cells": [
    {
      "cell_type": "markdown",
      "metadata": {
        "id": "view-in-github",
        "colab_type": "text"
      },
      "source": [
        "<a href=\"https://colab.research.google.com/github/mdesouzasilva571-pixel/Aula11/blob/main/explica%C3%A7%C3%A3o.ipynb\" target=\"_parent\"><img src=\"https://colab.research.google.com/assets/colab-badge.svg\" alt=\"Open In Colab\"/></a>"
      ]
    },
    {
      "cell_type": "code",
      "source": [
        "from abc import ABC, abstractmethod\n",
        "\n",
        "# Classe abstrata\n",
        "class Forma(ABC):\n",
        "    @abstractmethod\n",
        "    def area(self):\n",
        "        pass\n",
        "\n",
        "    @abstractmethod\n",
        "    def perimetro(self):\n",
        "        pass\n",
        "\n",
        "# Subclasse concreta\n",
        "class Quadrado(Forma):\n",
        "    def __init__(self, lado):\n",
        "        self.__lado = lado\n",
        "\n",
        "    def area(self):\n",
        "        return self.__lado ** 2\n",
        "\n",
        "    def perimetro(self):\n",
        "        return self.__lado * 4\n",
        "\n",
        "# Código de teste\n",
        "if __name__ == \"__main__\":\n",
        "    q = Quadrado(5)\n",
        "    print(\"Área:\", q.area())\n",
        "    print(\"Perímetro:\", q.perimetro())\n"
      ],
      "metadata": {
        "colab": {
          "base_uri": "https://localhost:8080/"
        },
        "id": "JzvZmOsTO_bu",
        "outputId": "fbf33996-6bf4-4f87-c5d0-10adfcd17287"
      },
      "execution_count": 6,
      "outputs": [
        {
          "output_type": "stream",
          "name": "stdout",
          "text": [
            "Área: 25\n",
            "Perímetro: 20\n"
          ]
        }
      ]
    },
    {
      "cell_type": "code",
      "source": [
        "class Cachorro(Animal):\n",
        "    def emitir_som(self):\n",
        "        print(\"Au au!\")\n",
        "\n",
        "dog = Cachorro(\"fofinha\")\n",
        "dog.apresentar()\n",
        "dog.emitir_som()"
      ],
      "metadata": {
        "colab": {
          "base_uri": "https://localhost:8080/"
        },
        "id": "cpimVamDP_08",
        "outputId": "bb69674c-cab8-463f-9190-cbd61f569d9f"
      },
      "execution_count": 11,
      "outputs": [
        {
          "output_type": "stream",
          "name": "stdout",
          "text": [
            "Eu sou fofinha\n",
            "Au au!\n"
          ]
        }
      ]
    },
    {
      "cell_type": "code",
      "source": [
        "from abc import ABC, abstractmethod\n",
        "\n",
        "class Nadador (ABC):\n",
        "  @abstractmethod\n",
        "  def nadar(self):\n",
        "    pass\n",
        "\n",
        "class Corredor(ABC):\n",
        "  @abstractmethod\n",
        "  def correr(self):\n",
        "   pass\n",
        "\n",
        "class Triatleta(Nadador, Corredor):\n",
        "     def nadar(self):\n",
        "      print(\"nadando\")\n",
        "\n",
        "     def correr(self):\n",
        "      print(\"correndo\")\n",
        "\n",
        "t = Triatleta()\n",
        "t.nadar()\n",
        "t.correr()"
      ],
      "metadata": {
        "colab": {
          "base_uri": "https://localhost:8080/"
        },
        "id": "z23WfWw8QIlz",
        "outputId": "dd759bc6-51c8-40ab-a8b6-9591095c941f"
      },
      "execution_count": 14,
      "outputs": [
        {
          "output_type": "stream",
          "name": "stdout",
          "text": [
            "nadando\n",
            "correndo\n"
          ]
        }
      ]
    },
    {
      "cell_type": "code",
      "source": [
        "issubclass(Quadrado, Forma) #true\n",
        "isinstance(q, Forma) #true\n",
        "\n",
        "# f = Forma() #TyperError - Cannot instantiate abstract base class"
      ],
      "metadata": {
        "colab": {
          "base_uri": "https://localhost:8080/"
        },
        "id": "3fzpTNAqRMlf",
        "outputId": "d6ee291a-2ba6-4532-b6d0-055874337c0b"
      },
      "execution_count": 16,
      "outputs": [
        {
          "output_type": "execute_result",
          "data": {
            "text/plain": [
              "True"
            ]
          },
          "metadata": {},
          "execution_count": 16
        }
      ]
    }
  ],
  "metadata": {
    "colab": {
      "name": "Conheça o Colab",
      "provenance": [],
      "include_colab_link": true
    },
    "kernelspec": {
      "display_name": "Python 3",
      "name": "python3"
    }
  },
  "nbformat": 4,
  "nbformat_minor": 0
}