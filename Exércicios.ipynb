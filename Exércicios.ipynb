{
  "cells": [
    {
      "cell_type": "markdown",
      "metadata": {
        "id": "view-in-github",
        "colab_type": "text"
      },
      "source": [
        "<a href=\"https://colab.research.google.com/github/mdesouzasilva571-pixel/Aula11/blob/main/Ex%C3%A9rcicios.ipynb\" target=\"_parent\"><img src=\"https://colab.research.google.com/assets/colab-badge.svg\" alt=\"Open In Colab\"/></a>"
      ]
    },
    {
      "cell_type": "code",
      "source": [
        "from abc import ABC, abstractmethod\n",
        "\n",
        "@abstractmethod\n",
        "class Funcionario(ABC):\n",
        "    def __init__(self, nome, salario):\n",
        "        self.nome = nome\n",
        "        self.salario = salario\n",
        "\n",
        "    @abstractmethod\n",
        "    def calcular_bonus(self):\n",
        "        pass\n",
        "\n",
        "issubclass(Gerente, Funcionario)\n",
        "issubclass(Desenvolvedor, Funcionario)\n",
        "class Gerente(Funcionario):\n",
        "    def calcular_bonus(self):\n",
        "        return self.salario * 0.30\n",
        "\n",
        "# Subclasse Desenvolvedor\n",
        "class Desenvolvedor(Funcionario):\n",
        "    def calcular_bonus(self):\n",
        "        return self.salario * 0.20\n",
        "\n",
        "# Testando as classes\n",
        "if __name__ == \"__main__\":\n",
        "    gerente = Gerente(\"Ana\", 10000)\n",
        "    dev = Desenvolvedor(\"Carlos\", 8000)\n",
        "\n",
        "    print(f\"Gerente {gerente.nome} - Bônus: R${gerente.calcular_bonus():.2f}\")\n",
        "    print(f\"Desenvolvedor {dev.nome} - Bônus: R${dev.calcular_bonus():.2f}\")\n"
      ],
      "metadata": {
        "colab": {
          "base_uri": "https://localhost:8080/"
        },
        "id": "nignkVCnVkbX",
        "outputId": "a419cdf6-cf56-4d92-e1be-588e3f0a7e30"
      },
      "execution_count": 22,
      "outputs": [
        {
          "output_type": "stream",
          "name": "stdout",
          "text": [
            "Gerente Ana - Bônus: R$3000.00\n",
            "Desenvolvedor Carlos - Bônus: R$1600.00\n"
          ]
        }
      ]
    },
    {
      "cell_type": "code",
      "source": [
        "from abc import ABC, abstractmethod\n",
        "\n",
        "@abstractmethod\n",
        "class Veiculo(ABC):\n",
        "    @abstractmethod\n",
        "    def acelerar(self):\n",
        "        pass\n",
        "\n",
        "    @abstractmethod\n",
        "    def frear(self):\n",
        "        pass\n",
        "\n",
        "issubclass(Carro, Veiculo)\n",
        "issubclass(Moto, Veiculo)\n",
        "\n",
        "class Carro(Veiculo):\n",
        "    def acelerar(self):\n",
        "        print(\"O carro está acelerando... Vruumm!\")\n",
        "\n",
        "    def frear(self):\n",
        "        print(\"O carro está freando...\")\n",
        "\n",
        "\n",
        "class Moto(Veiculo):\n",
        "    def acelerar(self):\n",
        "        print(\"A moto está acelerando... Vreeeenn!\")\n",
        "\n",
        "    def frear(self):\n",
        "        print(\"A moto está freando...\")\n",
        "\n",
        "# Testando as classes\n",
        "if __name__ == \"__main__\":\n",
        "    carro = Carro()\n",
        "    moto = Moto()\n",
        "\n",
        "    print(\"Testando o carro\" )\n",
        "    carro.acelerar()\n",
        "    carro.frear()\n",
        "\n",
        "    print(\" Testando a moto\")\n",
        "    moto.acelerar()\n",
        "    moto.frear()\n"
      ],
      "metadata": {
        "colab": {
          "base_uri": "https://localhost:8080/"
        },
        "id": "H7NX-vhkWdMS",
        "outputId": "ed4eb58c-491a-465a-dc5b-64a308cb5519"
      },
      "execution_count": 28,
      "outputs": [
        {
          "output_type": "stream",
          "name": "stdout",
          "text": [
            "Testando o carro\n",
            "O carro está acelerando... Vruumm!\n",
            "O carro está freando...\n",
            " Testando a moto\n",
            "A moto está acelerando... Vreeeenn!\n",
            "A moto está freando...\n"
          ]
        }
      ]
    },
    {
      "cell_type": "code",
      "source": [
        "from re import sub\n",
        "from abc import ABC, abstractmethod\n",
        "\n",
        "@abstractmethod\n",
        "\n",
        "class Arquivo(ABC):\n",
        "    @abstractmethod\n",
        "    def abrir(self):\n",
        "        pass\n",
        "issubclass(ArquivoTexto, Arquivo)\n",
        "issubclass(ArquivoImagem, Arquivo)\n",
        "class ArquivoTexto(Arquivo):\n",
        "    def abrir(self):\n",
        "        print(\"Abrindo arquivo de texto... Conteúdo sendo exibido como texto.\")\n",
        "\n",
        "\n",
        "class ArquivoImagem(Arquivo):\n",
        "    def abrir(self):\n",
        "        print(\"Abrindo arquivo de imagem... Exibindo imagem na tela.\")\n",
        "\n",
        "\n",
        "if __name__ == \"__main__\":\n",
        "    texto = ArquivoTexto()\n",
        "    # imagem = Arquivo # Cannot instantiate abstract class"
      ],
      "metadata": {
        "id": "sGZ9n6frXZa4"
      },
      "execution_count": 35,
      "outputs": []
    },
    {
      "cell_type": "code",
      "source": [
        "from abc import ABC, abstractmethod\n",
        "\n",
        "@abstractmethod\n",
        "class Arquivo(ABC):\n",
        "    @abstractmethod\n",
        "    def abrir(self):\n",
        "        pass\n",
        "\n",
        "issubclass(ArquivoTexto, Arquivo)\n",
        "issubclass(ArquivoImagem, Arquivo)\n",
        "isinstance(ArquivoTexto(), Arquivo)\n",
        "isinstance(ArquivoImagem(), Arquivo)\n",
        "class ArquivoTexto(Arquivo):\n",
        "    def abrir(self):\n",
        "        print(\"Abrindo arquivo de texto... Conteúdo sendo exibido como texto.\")\n",
        "\n",
        "# Outra subclasse\n",
        "class ArquivoImagem(Arquivo):\n",
        "    def abrir(self):\n",
        "        print(\"Arquivo de imagem ABERTO, exebindo IMAGEM na tela\")\n",
        "\n",
        "# Testando\n",
        "if __name__ == \"__main__\":\n",
        "    texto = ArquivoTexto()\n",
        "    imagem = ArquivoImagem()\n",
        "\n",
        "    texto.abrir()\n",
        "    imagem.abrir()\n",
        "\n",
        "\n"
      ],
      "metadata": {
        "id": "VWuoq_urX2wh",
        "outputId": "abe437d3-aa29-46a0-b742-86e20a1cb080",
        "colab": {
          "base_uri": "https://localhost:8080/"
        }
      },
      "execution_count": 39,
      "outputs": [
        {
          "output_type": "stream",
          "name": "stdout",
          "text": [
            "Abrindo arquivo de texto... Conteúdo sendo exibido como texto.\n",
            "Arquivo de imagem ABERTO, exebindo IMAGEM na tela\n"
          ]
        }
      ]
    }
  ],
  "metadata": {
    "colab": {
      "name": "Conheça o Colab",
      "provenance": [],
      "include_colab_link": true
    },
    "kernelspec": {
      "display_name": "Python 3",
      "name": "python3"
    }
  },
  "nbformat": 4,
  "nbformat_minor": 0
}