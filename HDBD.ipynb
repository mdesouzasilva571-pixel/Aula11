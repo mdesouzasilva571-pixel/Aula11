{
  "cells": [
    {
      "cell_type": "markdown",
      "metadata": {
        "id": "view-in-github",
        "colab_type": "text"
      },
      "source": [
        "<a href=\"https://colab.research.google.com/github/mdesouzasilva571-pixel/Aula11/blob/main/HDBD.ipynb\" target=\"_parent\"><img src=\"https://colab.research.google.com/assets/colab-badge.svg\" alt=\"Open In Colab\"/></a>"
      ]
    },
    {
      "cell_type": "code",
      "source": [
        "from re import sub\n",
        "from abc import ABC, abstractmethod\n",
        "\n",
        "@abstractmethod\n",
        "\n",
        "class Arquivo(ABC):\n",
        "    @abstractmethod\n",
        "    def abrir(self):\n",
        "        pass\n",
        "issubclass(ArquivoTexto, Arquivo)\n",
        "issubclass(ArquivoImagem, Arquivo)\n",
        "class ArquivoTexto(Arquivo):\n",
        "    def abrir(self):\n",
        "        print(\"Abrindo arquivo de texto... Conteúdo sendo exibido como texto.\")\n",
        "\n",
        "\n",
        "class ArquivoImagem(Arquivo):\n",
        "    def abrir(self):\n",
        "        print(\"Abrindo arquivo de imagem... Exibindo imagem na tela.\")\n",
        "\n",
        "\n",
        "if __name__ == \"__main__\":\n",
        "    texto = ArquivoTexto()\n",
        "    # imagem = Arquivo # Cannot instantiate abstract class"
      ],
      "metadata": {
        "id": "sGZ9n6frXZa4"
      },
      "execution_count": 35,
      "outputs": []
    },
    {
      "cell_type": "code",
      "source": [
        "from abc import ABC, abstractmethod\n",
        "\n",
        "@abstractmethod\n",
        "class Arquivo(ABC):\n",
        "    @abstractmethod\n",
        "    def abrir(self):\n",
        "        pass\n",
        "\n",
        "issubclass(ArquivoTexto, Arquivo)\n",
        "issubclass(ArquivoImagem, Arquivo)\n",
        "isinstance(ArquivoTexto(), Arquivo)\n",
        "isinstance(ArquivoImagem(), Arquivo)\n",
        "class ArquivoTexto(Arquivo):\n",
        "    def abrir(self):\n",
        "        print(\"Abrindo arquivo de texto... Conteúdo sendo exibido como texto.\")\n",
        "\n",
        "# Outra subclasse\n",
        "class ArquivoImagem(Arquivo):\n",
        "    def abrir(self):\n",
        "        print(\"Arquivo de imagem ABERTO, exebindo IMAGEM na tela\")\n",
        "\n",
        "# Testando\n",
        "if __name__ == \"__main__\":\n",
        "    texto = ArquivoTexto()\n",
        "    imagem = ArquivoImagem()\n",
        "\n",
        "    texto.abrir()\n",
        "    imagem.abrir()\n",
        "\n",
        "\n"
      ],
      "metadata": {
        "colab": {
          "base_uri": "https://localhost:8080/"
        },
        "id": "VWuoq_urX2wh",
        "outputId": "abe437d3-aa29-46a0-b742-86e20a1cb080"
      },
      "execution_count": 39,
      "outputs": [
        {
          "output_type": "stream",
          "name": "stdout",
          "text": [
            "Abrindo arquivo de texto... Conteúdo sendo exibido como texto.\n",
            "Arquivo de imagem ABERTO, exebindo IMAGEM na tela\n"
          ]
        }
      ]
    }
  ],
  "metadata": {
    "colab": {
      "name": "Conheça o Colab",
      "provenance": [],
      "include_colab_link": true
    },
    "kernelspec": {
      "display_name": "Python 3",
      "name": "python3"
    }
  },
  "nbformat": 4,
  "nbformat_minor": 0
}